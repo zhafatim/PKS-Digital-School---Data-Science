{
 "cells": [
  {
   "cell_type": "markdown",
   "id": "28ce1de4",
   "metadata": {},
   "source": [
    "# Hello Python"
   ]
  },
  {
   "cell_type": "markdown",
   "id": "a0383c07",
   "metadata": {},
   "source": [
    "#### 1. Buatlah 3 variabel yang masing-masing berisi\n",
    "    \n",
    "    a. Nama depan (string)\n",
    "    \n",
    "    b. Umur (integer)\n",
    "    \n",
    "    c. kota tinggal (string)"
   ]
  },
  {
   "cell_type": "code",
   "execution_count": 1,
   "id": "75606135",
   "metadata": {},
   "outputs": [],
   "source": [
    "nama_depan = \"Fatimah\"\n",
    "umur = 25\n",
    "kota_tinggal = \"Solo\""
   ]
  },
  {
   "cell_type": "markdown",
   "id": "97666270",
   "metadata": {},
   "source": [
    "#### 2. Tampilkan semua variabel pada soal no 1 menjadi sebuah kalimat dengan menggunakan metode print()"
   ]
  },
  {
   "cell_type": "code",
   "execution_count": 2,
   "id": "5967c1c2",
   "metadata": {},
   "outputs": [
    {
     "name": "stdout",
     "output_type": "stream",
     "text": [
      "Nama saya adalah Fatimah, berusia 25 tahun, dan tinggal di Solo\n"
     ]
    }
   ],
   "source": [
    "#kerjakan soal no 2 pada bagian sel ini\n",
    "#contoh keluaran yang diharapkan : \"Nama saya adalah Thio, berusia 28 tahun dan tinggal di Bandung.\"\n",
    "\n",
    "print(f\"Nama saya adalah {nama_depan}, berusia {umur} tahun, dan tinggal di {kota_tinggal}\")"
   ]
  },
  {
   "cell_type": "markdown",
   "id": "d4bbc634",
   "metadata": {},
   "source": [
    "#### 3. Dengan menggunakan salah satu string method, ubah kata mangga pada variabel kalimat menjadi apel dan masukkan pada variabel kalimat_2 lalu print variabel kalimat_2"
   ]
  },
  {
   "cell_type": "code",
   "execution_count": 3,
   "id": "4ac19ab4",
   "metadata": {},
   "outputs": [
    {
     "name": "stdout",
     "output_type": "stream",
     "text": [
      "Budi menyukai buah apel\n"
     ]
    }
   ],
   "source": [
    "#soal no 3\n",
    "kalimat = 'Budi menyukai buah mangga'\n",
    "kalimat_2 = kalimat.replace('mangga','apel') #ubah mangga -> apel\n",
    "\n",
    "print(kalimat_2) #print variabel kalimat_2"
   ]
  },
  {
   "cell_type": "markdown",
   "id": "d58c306c",
   "metadata": {},
   "source": [
    "---\n",
    "\n",
    "---\n",
    "\n",
    "---"
   ]
  },
  {
   "cell_type": "markdown",
   "id": "4dbb35f1",
   "metadata": {},
   "source": [
    "# Data Structure "
   ]
  },
  {
   "cell_type": "markdown",
   "id": "d4f0b11b",
   "metadata": {},
   "source": [
    "#### 1. Lakukan 4 operasi aritmatika pada 2 variabel di bawah (tambah, kurang, kali, bagi), lalu simpan semua hasilnya didalam list dan tampilkan.\n",
    "\n",
    "var_1 = 10\n",
    "\n",
    "var_2 = 2"
   ]
  },
  {
   "cell_type": "code",
   "execution_count": 5,
   "id": "82394aa1",
   "metadata": {},
   "outputs": [
    {
     "name": "stdout",
     "output_type": "stream",
     "text": [
      "[12, 8, 20, 5]\n"
     ]
    }
   ],
   "source": [
    "var_1 = 10\n",
    "var_2 = 2\n",
    "\n",
    "a = var_1+var_2\n",
    "b = var_1-var_2\n",
    "c = var_1*var_2\n",
    "d = var_1/var_2\n",
    "\n",
    "hasil = [a, b, c, int(d)]\n",
    "print(hasil)"
   ]
  },
  {
   "cell_type": "markdown",
   "id": "992b5afa",
   "metadata": {},
   "source": [
    "#### 2. Dengan menggunakan index keluarkan nilai dari dua tuple di bawah\n",
    "\n",
    "a. ('Budi', 'Rani', 'Indah', 'Ilham')\n",
    "\n",
    "b. (20, 18, 22, 27)\n",
    "\n",
    "dari tuple a keluarkan Rani, dan dari tuple B keluarkan 22. lalu tampilkan dengan print() sesuai format yang diharapkan"
   ]
  },
  {
   "cell_type": "code",
   "execution_count": 1,
   "id": "faab81d1",
   "metadata": {},
   "outputs": [
    {
     "name": "stdout",
     "output_type": "stream",
     "text": [
      "Rani\n",
      "22\n",
      "Rani adalah mahasiswi yang berusia 22 tahun\n"
     ]
    }
   ],
   "source": [
    "a = ('Budi','Rani','Indah','Ilham')\n",
    "b = (20,18,22,27)\n",
    "\n",
    "print(a[1])\n",
    "print(b[2])\n",
    "print(f'{a[1]} adalah mahasiswi yang berusia {b[2]} tahun')"
   ]
  },
  {
   "cell_type": "markdown",
   "id": "9bd16605",
   "metadata": {},
   "source": [
    "#### 3. Cari kota asal dari user dengan data di bawah. Cari nilai uniknya/jangan sampai ada pengulangan.\n",
    "\n",
    "data_dict = {'Rudi':'bandung', 'Nina':'jakarta', 'Mia':'semarang', 'Indah':'bandung', 'Salman':'surabaya', 'Mikail':'jakarta'}"
   ]
  },
  {
   "cell_type": "code",
   "execution_count": 2,
   "id": "eb7cd693",
   "metadata": {},
   "outputs": [
    {
     "data": {
      "text/plain": [
       "{'bandung', 'jakarta', 'semarang', 'surabaya'}"
      ]
     },
     "execution_count": 2,
     "metadata": {},
     "output_type": "execute_result"
    }
   ],
   "source": [
    "data_dict = {'Rudi':'bandung',\n",
    "             'Nina':'jakarta',\n",
    "             'Mia':'semarang',\n",
    "             'Indah':'bandung',\n",
    "             'Salman':'surabaya',\n",
    "             'Mikail':'jakarta'}\n",
    "kota = data_dict.values()\n",
    "set.union(set(kota))"
   ]
  },
  {
   "cell_type": "markdown",
   "id": "eda9989b",
   "metadata": {},
   "source": [
    "#### 4. Gunakan metode slicing untuk mendapatkan hasil yang diharapkan\n",
    "\n",
    "a = ['1', '13b', 'aa1', 1.32, 22.1, 2.34]\n",
    "..."
   ]
  },
  {
   "cell_type": "code",
   "execution_count": 8,
   "id": "746673f4",
   "metadata": {},
   "outputs": [
    {
     "data": {
      "text/plain": [
       "['13b', 'aa1', 1.32, 22.1]"
      ]
     },
     "execution_count": 8,
     "metadata": {},
     "output_type": "execute_result"
    }
   ],
   "source": [
    "a = ['1', '13b', 'aa1', 1.32, 22.1, 2.34]\n",
    "a[1:5]"
   ]
  },
  {
   "cell_type": "markdown",
   "id": "074f907b",
   "metadata": {},
   "source": [
    "#### 5. Gabungkan kedua list di bawah ini\n",
    "\n",
    "a = [1, 3, 5]\n",
    "\n",
    "b = [5, 1, 3]"
   ]
  },
  {
   "cell_type": "code",
   "execution_count": 9,
   "id": "86babb2d",
   "metadata": {},
   "outputs": [
    {
     "data": {
      "text/plain": [
       "[5, 1, 3, 1, 3, 5]"
      ]
     },
     "execution_count": 9,
     "metadata": {},
     "output_type": "execute_result"
    }
   ],
   "source": [
    "a = [1, 3, 5]\n",
    "b = [5, 1, 3]\n",
    "\n",
    "b.extend(a)\n",
    "b"
   ]
  },
  {
   "cell_type": "markdown",
   "id": "632a0365",
   "metadata": {},
   "source": [
    "#### 6. Hilangkan elemen yang bernilai \"bathroom\" dan 10.50 lalu print kembali list areas\n",
    "\n",
    "areas = [\"hallway\", 11.25, \"kitchen\", 18.0,\n",
    "        \"chill zone\", 20.0, \"bedroom\", 10.75,\n",
    "         \"bathroom\", 10.50, \"poolhouse\", 24.5,\n",
    "         \"garage\", 15.45]\n",
    "\n",
    "..."
   ]
  },
  {
   "cell_type": "code",
   "execution_count": 10,
   "id": "d7c28ee5",
   "metadata": {},
   "outputs": [
    {
     "data": {
      "text/plain": [
       "['hallway',\n",
       " 11.25,\n",
       " 'kitchen',\n",
       " 18.0,\n",
       " 'chill zone',\n",
       " 20.0,\n",
       " 'bedroom',\n",
       " 10.75,\n",
       " 'poolhouse',\n",
       " 24.5,\n",
       " 'garage',\n",
       " 15.45]"
      ]
     },
     "execution_count": 10,
     "metadata": {},
     "output_type": "execute_result"
    }
   ],
   "source": [
    "areas = [\"hallway\", 11.25, \"kitchen\", 18.0, \"chill zone\", 20.0, \"bedroom\", 10.75, \n",
    "         \"bathroom\", 10.50, \"poolhouse\", 24.5, \"garage\", 15.45]\n",
    "del areas[8:10]\n",
    "areas"
   ]
  },
  {
   "cell_type": "markdown",
   "id": "65305a61",
   "metadata": {},
   "source": [
    "#### 7.\n",
    "\n",
    "***europe = {'spain':'madrid', 'france':'paris', 'germany':'bonn', 'norway':'oslo', 'italy':'rome', 'poland':'warsaw', 'australia':'vienna' }***\n",
    "\n",
    "\n",
    "update nilai ibukota german ke berlin\n",
    "\n",
    ".........\n",
    "\n",
    "remove australia dari europa\n",
    "\n",
    "........\n",
    "\n",
    "print(europe)"
   ]
  },
  {
   "cell_type": "code",
   "execution_count": 11,
   "id": "f816ec23",
   "metadata": {},
   "outputs": [
    {
     "data": {
      "text/plain": [
       "{'spain': 'madrid',\n",
       " 'france': 'paris',\n",
       " 'germany': 'berlin',\n",
       " 'norway': 'oslo',\n",
       " 'italy': 'rome',\n",
       " 'poland': 'warsaw'}"
      ]
     },
     "execution_count": 11,
     "metadata": {},
     "output_type": "execute_result"
    }
   ],
   "source": [
    "europe = {'spain':'madrid', \n",
    "          'france':'paris', \n",
    "          'germany':'bonn', \n",
    "          'norway':'oslo', \n",
    "          'italy':'rome', \n",
    "          'poland':'warsaw', \n",
    "          'australia':'vienna' }\n",
    "europe.update({'germany':'berlin'})\n",
    "del europe['australia']\n",
    "\n",
    "europe"
   ]
  },
  {
   "cell_type": "markdown",
   "id": "89b5940d",
   "metadata": {},
   "source": [
    "#### 8.\n",
    "Cari semua nilai yang sama dari kedua list berikut ini. Print dalam bentuk list\n",
    "\n",
    "\n",
    "a = [1,4,24,53,67,45,23,4,7,8,2,9,6,10,19,20,23,13,19]\n",
    "\n",
    "b = [1,3,5,7,9,11,13,15,17,19,21,23]"
   ]
  },
  {
   "cell_type": "code",
   "execution_count": 12,
   "id": "09c07397",
   "metadata": {},
   "outputs": [
    {
     "data": {
      "text/plain": [
       "[1, 7, 9, 13, 19, 23]"
      ]
     },
     "execution_count": 12,
     "metadata": {},
     "output_type": "execute_result"
    }
   ],
   "source": [
    "a = [1,4,24,53,67,45,23,4,7,8,2,9,6,10,19,20,23,13,19]\n",
    "b = [1,3,5,7,9,11,13,15,17,19,21,23]\n",
    "\n",
    "c = list(set(a).intersection(set(b)))\n",
    "c"
   ]
  },
  {
   "cell_type": "markdown",
   "id": "e0730d3d",
   "metadata": {},
   "source": [
    "---\n",
    "\n",
    "---\n",
    "\n",
    "---"
   ]
  },
  {
   "cell_type": "markdown",
   "id": "72969e95",
   "metadata": {},
   "source": [
    "# Logic Control Flow and Iteration"
   ]
  },
  {
   "cell_type": "markdown",
   "id": "15c93f4a",
   "metadata": {},
   "source": [
    "#### 1. Keluarkan dan tampilkan menggunakan print semua anggota list pada sel dibawah"
   ]
  },
  {
   "cell_type": "code",
   "execution_count": 13,
   "id": "af715cf9",
   "metadata": {},
   "outputs": [
    {
     "name": "stdout",
     "output_type": "stream",
     "text": [
      "bandung\n",
      "jakarta\n",
      "semarang\n",
      "palembang\n"
     ]
    }
   ],
   "source": [
    "data_list = ['bandung', 'jakarta', 'semarang', 'palembang']\n",
    "for data in data_list:\n",
    "    print(data)"
   ]
  },
  {
   "cell_type": "markdown",
   "id": "f96d08d9",
   "metadata": {},
   "source": [
    "#### 2. Keluarkan dan tampilkan menggunakan metode print anggota list dengan tipe numerik (int & float) dari list pada sel di bawah"
   ]
  },
  {
   "cell_type": "code",
   "execution_count": 14,
   "id": "937c7470",
   "metadata": {},
   "outputs": [
    {
     "name": "stdout",
     "output_type": "stream",
     "text": [
      "100\n",
      "15.5\n"
     ]
    }
   ],
   "source": [
    "data_list_2 = [100, 'makassar', 15.5, True, \"20\"]\n",
    "for i in data_list_2:\n",
    "    if type(i)==int or type(i)==float:\n",
    "        print(i)"
   ]
  },
  {
   "cell_type": "markdown",
   "id": "7016301f",
   "metadata": {},
   "source": [
    "#### 3. Buat sebuah kode if else yang dapat menyatakan apakah suatu bilangan ganjil atau genap."
   ]
  },
  {
   "cell_type": "code",
   "execution_count": 15,
   "id": "ab7c34db",
   "metadata": {},
   "outputs": [
    {
     "name": "stdout",
     "output_type": "stream",
     "text": [
      "Ganjil\n"
     ]
    }
   ],
   "source": [
    "number = 9\n",
    "\n",
    "#hint\n",
    "'''\n",
    "if ... :\n",
    "    print(...)\n",
    "else ...:\n",
    "    print(...)\n",
    "'''\n",
    "#hasil yang diharapkan\n",
    "#ganjil\n",
    "\n",
    "if number%2 == 1:\n",
    "    print(\"Ganjil\")\n",
    "else:\n",
    "    print(\"Genap\")"
   ]
  },
  {
   "cell_type": "markdown",
   "id": "dfc3c19b",
   "metadata": {},
   "source": [
    "#### 4. Kalikan semua anggota list_1 terhadap anggota ganjil pada list_2. tampilkan hasilnya"
   ]
  },
  {
   "cell_type": "code",
   "execution_count": 16,
   "id": "923afb2c",
   "metadata": {},
   "outputs": [
    {
     "name": "stdout",
     "output_type": "stream",
     "text": [
      "3\n",
      "9\n",
      "6\n",
      "18\n",
      "9\n",
      "27\n",
      "12\n",
      "36\n",
      "15\n",
      "45\n"
     ]
    }
   ],
   "source": [
    "list_1 = [1,2,3,4,5]\n",
    "list_2 = [2,3,6,8,9]\n",
    "\n",
    "list_1 = [1,2,3,4,5]\n",
    "list_2 = [2,3,6,8,9]\n",
    "for i in list_1:\n",
    "    for j in list_2:\n",
    "        if j%2 == 1:\n",
    "            a = i*j\n",
    "            print(a)"
   ]
  },
  {
   "cell_type": "markdown",
   "id": "657653d2",
   "metadata": {},
   "source": [
    "#### 5. lakukan pengecekan apakah terdapat angka pada tiap2 anggota list. lalu tampilkan sesuai format yang diminta"
   ]
  },
  {
   "cell_type": "code",
   "execution_count": 17,
   "id": "b6612cd8",
   "metadata": {},
   "outputs": [
    {
     "name": "stdout",
     "output_type": "stream",
     "text": [
      "asda8asd memiliki angka\n",
      "bandunglautanapi tidak memiliki angka\n",
      "washingt0nDC memiliki angka\n"
     ]
    }
   ],
   "source": [
    "data_list_3 = ['asda8asd', 'bandunglautanapi', 'washingt0nDC']\n",
    "\n",
    "for data in data_list_3:\n",
    "    if any([i.isdigit() for i in data]):\n",
    "        print(data,'memiliki angka')\n",
    "    else:\n",
    "        print(data,'tidak memiliki angka')"
   ]
  },
  {
   "cell_type": "markdown",
   "id": "edab4730",
   "metadata": {},
   "source": [
    "#### 6. Cari siswa mana saja yang memiliki nilai lebih dari sama dengan 80. Masukkan kedalam sebuah list. print hasilnya"
   ]
  },
  {
   "cell_type": "code",
   "execution_count": 18,
   "id": "3296d1f0",
   "metadata": {},
   "outputs": [
    {
     "name": "stdout",
     "output_type": "stream",
     "text": [
      "['Budi', 'Rudi', 'Leo']\n"
     ]
    }
   ],
   "source": [
    "data_siswa = [\n",
    "    {\n",
    "        \"nama\":\"Budi\",\n",
    "        \"nilai\": 90\n",
    "    },\n",
    "    {\n",
    "        \"nama\":\"Nina\",\n",
    "        \"nilai\": 78\n",
    "    },\n",
    "    {\n",
    "        \"nama\":\"Rudi\",\n",
    "        \"nilai\": 91\n",
    "    },\n",
    "    {\n",
    "        \"nama\":\"Olivia\",\n",
    "        \"nilai\": 76\n",
    "    },\n",
    "    {\n",
    "        \"nama\":\"Leo\",\n",
    "        \"nilai\": 80\n",
    "    },\n",
    "    {\n",
    "        \"nama\":\"Liam\",\n",
    "        \"nilai\": 67\n",
    "    },\n",
    "    {\n",
    "        \"nama\":\"Sheila\",\n",
    "        \"nilai\": 76\n",
    "    }\n",
    "]\n",
    "\n",
    "a = []\n",
    "for data in data_siswa:\n",
    "    if data['nilai'] >= 80:\n",
    "        a.append(data['nama'])\n",
    "print(a)"
   ]
  },
  {
   "cell_type": "markdown",
   "id": "33e37ba1",
   "metadata": {},
   "source": [
    "---\n",
    "\n",
    "---\n",
    "\n",
    "---"
   ]
  },
  {
   "cell_type": "markdown",
   "id": "bc89ada7",
   "metadata": {},
   "source": [
    "# Function & Method"
   ]
  },
  {
   "cell_type": "markdown",
   "id": "d88206f8",
   "metadata": {},
   "source": [
    "#### 1. Buatlah sebuah fungsi di python yang memerlukan dua argument, nama dan usia. Lalu menampilkan dua argument tersebut saat fungsi dipanggil"
   ]
  },
  {
   "cell_type": "code",
   "execution_count": 20,
   "id": "f9de665d",
   "metadata": {},
   "outputs": [
    {
     "name": "stdout",
     "output_type": "stream",
     "text": [
      "Rina 20\n"
     ]
    }
   ],
   "source": [
    "def func1(name,age):\n",
    "    print(name, age)\n",
    "    \n",
    "func1(\"Rina\",20)"
   ]
  },
  {
   "cell_type": "markdown",
   "id": "ee2c4c2a",
   "metadata": {},
   "source": [
    "#### 2. Buatlah fungsi yang bisa melakukan print semua parameter/argument yang menjadi inputan. Fungsi tersebut harus bisa menerima berapapun argument yang dimasukkan tanpa error. "
   ]
  },
  {
   "cell_type": "code",
   "execution_count": 21,
   "id": "14e16b49",
   "metadata": {},
   "outputs": [
    {
     "name": "stdout",
     "output_type": "stream",
     "text": [
      "1\n",
      "2\n",
      "3\n"
     ]
    }
   ],
   "source": [
    "def func2(*nilai):\n",
    "    for i in nilai:\n",
    "        print(i)\n",
    "func2(1,2,3)"
   ]
  },
  {
   "cell_type": "code",
   "execution_count": 22,
   "id": "aaacb51f",
   "metadata": {},
   "outputs": [
    {
     "name": "stdout",
     "output_type": "stream",
     "text": [
      "1\n",
      "2\n",
      "3\n",
      "4\n",
      "5\n",
      "6\n"
     ]
    }
   ],
   "source": [
    "def func1(*nilai):\n",
    "    for i in nilai:\n",
    "        print(i)\n",
    "func1(1,2,3,4,5,6)"
   ]
  },
  {
   "cell_type": "markdown",
   "id": "6291d8e9",
   "metadata": {},
   "source": [
    "#### 3. Buatlah sebuah fungsi yang dapat mencari jumlah total dari anggota pada list. Syarat pengerjaan:\n",
    "     - tanpa menggunakan loop/iterasi\n",
    "     - manfaatkan fungsi lambda\n",
    "\n",
    "list_nilai = [23,17,5,8,25,15]"
   ]
  },
  {
   "cell_type": "code",
   "execution_count": 23,
   "id": "e922b84d",
   "metadata": {},
   "outputs": [
    {
     "data": {
      "text/plain": [
       "93"
      ]
     },
     "execution_count": 23,
     "metadata": {},
     "output_type": "execute_result"
    }
   ],
   "source": [
    "list_nilai = [23,17,5,8,25,15]\n",
    "func3 = lambda x : sum(x)\n",
    "func3(list_nilai)"
   ]
  },
  {
   "cell_type": "markdown",
   "id": "15da8f9d",
   "metadata": {},
   "source": [
    "#### 4. Buatlah sebuah fungsi yang dapat mencari nilai yang lebih besar/sama dengan 80 dari anggota pada list. Syarat pengerjaan:\n",
    "     - tanpa menggunakan loop/iterasi\n",
    "     - manfaatkan fungsi lambda\n",
    "     - ouput merupakan list\n",
    "\n",
    "nilai_siswa = [67,89,80,67,25,92]"
   ]
  },
  {
   "cell_type": "code",
   "execution_count": 24,
   "id": "47f6d608",
   "metadata": {},
   "outputs": [
    {
     "name": "stdout",
     "output_type": "stream",
     "text": [
      "[89, 80, 92]\n"
     ]
    }
   ],
   "source": [
    "nilai_siswa = [67,89,80,67,25,92]\n",
    "def func4(*nilai):\n",
    "    print(list(filter(lambda x : x >= 80,*nilai)))\n",
    "\n",
    "func4(nilai_siswa)"
   ]
  },
  {
   "cell_type": "markdown",
   "id": "44282d06",
   "metadata": {},
   "source": [
    "#### 5. Buatlah sebuah fungsi untuk mengecek apakah suatu string palindrom atau bukan\n",
    "\n",
    "kata_1 = \"makam\"\n",
    "kata_2 = \"makan\""
   ]
  },
  {
   "cell_type": "code",
   "execution_count": 25,
   "id": "362a8765",
   "metadata": {},
   "outputs": [
    {
     "name": "stdout",
     "output_type": "stream",
     "text": [
      "makam merupakan paliandrom\n",
      "makan bukan merupakan paliandrom\n"
     ]
    }
   ],
   "source": [
    "kata_1 = \"makam\"\n",
    "kata_2 = \"makan\"\n",
    "def test_palindrom(kata):\n",
    "    test = kata[::-1] \n",
    "    if kata == test:\n",
    "        print (kata,'merupakan paliandrom')\n",
    "    else:\n",
    "        print (kata,'bukan merupakan paliandrom')\n",
    "\n",
    "test_palindrom(kata_1)\n",
    "test_palindrom(kata_2)"
   ]
  },
  {
   "cell_type": "markdown",
   "id": "50cd05cd",
   "metadata": {},
   "source": [
    "---\n",
    "\n",
    "---\n",
    "\n",
    "---"
   ]
  },
  {
   "cell_type": "markdown",
   "id": "cd6769bd",
   "metadata": {},
   "source": [
    "# Object Oriented Programming"
   ]
  },
  {
   "cell_type": "markdown",
   "id": "94c4620d",
   "metadata": {},
   "source": [
    "#### 1. Buatlah sebuah class dengan nama class = Kendaraan,  tanpa variabel, attribute dan methods"
   ]
  },
  {
   "cell_type": "code",
   "execution_count": 26,
   "id": "791ea5bd",
   "metadata": {},
   "outputs": [],
   "source": [
    "class kendaraan:\n",
    "    pass"
   ]
  },
  {
   "cell_type": "markdown",
   "id": "a52f83c5",
   "metadata": {},
   "source": [
    "#### 2. Buatlah sebuah class dengan nama class = Kendaraan, yang memiliki atribut instance kecepatan_maksimum dan jarak_tempuh"
   ]
  },
  {
   "cell_type": "code",
   "execution_count": 27,
   "id": "be07c158",
   "metadata": {},
   "outputs": [
    {
     "name": "stdout",
     "output_type": "stream",
     "text": [
      "240 10\n"
     ]
    }
   ],
   "source": [
    "class Kendaraan:\n",
    "    def __init__(model_1,kecepatan_maksimum,jarak_tempuh):\n",
    "        model_1.kecepatan_maksimum = kecepatan_maksimum\n",
    "        model_1.jarak_tempuh = jarak_tempuh\n",
    "\n",
    "model_1 = Kendaraan(240,10)\n",
    "print(model_1.kecepatan_maksimum,model_1.jarak_tempuh)"
   ]
  },
  {
   "cell_type": "markdown",
   "id": "b8a80d57",
   "metadata": {},
   "source": [
    "#### 3. Buatlah sebuah class dengan nama Tesla yang bersifat inheritance/turunan dari class mobil"
   ]
  },
  {
   "cell_type": "code",
   "execution_count": 28,
   "id": "bf65bb05",
   "metadata": {},
   "outputs": [
    {
     "name": "stdout",
     "output_type": "stream",
     "text": [
      "Nama Mobil: model x, Warna: perak, Bahan Bakar: listrik\n"
     ]
    }
   ],
   "source": [
    "class Mobil:\n",
    "    def __init__(self, nama, warna, bahan_bakar):\n",
    "        self.nama = nama\n",
    "        self.warna = warna\n",
    "        self.bahan_bakar = bahan_bakar \n",
    "        \n",
    "class Tesla(Mobil):\n",
    "    pass\n",
    "\n",
    "model_x = Tesla(\"model x\",\"perak\",\"listrik\")\n",
    "print(f\"Nama Mobil: {model_x.nama}, Warna: {model_x.warna}, Bahan Bakar: {model_x.bahan_bakar}\")"
   ]
  },
  {
   "cell_type": "markdown",
   "id": "80645a11",
   "metadata": {},
   "source": [
    "#### 4. Buatlah sebuah class dengan ketentuan:\n",
    "    - memiliki nama Aritmatika\n",
    "    - instance atribut/input untuk class adalah dua integer\n",
    "    - memiliki metode yang bernama add yang menampilkan hasil penjumlahan instance atribut/inputan class"
   ]
  },
  {
   "cell_type": "code",
   "execution_count": 29,
   "id": "65a843a8",
   "metadata": {},
   "outputs": [
    {
     "name": "stdout",
     "output_type": "stream",
     "text": [
      "14\n"
     ]
    }
   ],
   "source": [
    "class Aritmatika : \n",
    "    def __init__(self,a,b):\n",
    "        self.a = a\n",
    "        self.b = b\n",
    "    def add (self):\n",
    "        print (self.a+self.b)\n",
    "    \n",
    "        \n",
    "model_hitung = Aritmatika(4,10)\n",
    "model_hitung.add()"
   ]
  }
 ],
 "metadata": {
  "kernelspec": {
   "display_name": "Python [conda env:bootcamp_PKS]",
   "language": "python",
   "name": "conda-env-bootcamp_PKS-py"
  },
  "language_info": {
   "codemirror_mode": {
    "name": "ipython",
    "version": 3
   },
   "file_extension": ".py",
   "mimetype": "text/x-python",
   "name": "python",
   "nbconvert_exporter": "python",
   "pygments_lexer": "ipython3",
   "version": "3.9.7"
  }
 },
 "nbformat": 4,
 "nbformat_minor": 5
}
